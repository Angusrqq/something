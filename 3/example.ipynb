{
 "cells": [
  {
   "cell_type": "code",
   "execution_count": 1,
   "id": "a64d0b8a",
   "metadata": {},
   "outputs": [],
   "source": [
    "import os\n",
    "os.environ[\"PYSPARK_PYTHON\"] = \"python\"\n",
    "import df_util\n",
    "from pyspark.sql import SparkSession"
   ]
  },
  {
   "cell_type": "code",
   "execution_count": 2,
   "id": "6cc35f79",
   "metadata": {},
   "outputs": [],
   "source": [
    "spark = SparkSession.builder.appName(\"bas\").getOrCreate()"
   ]
  },
  {
   "cell_type": "code",
   "execution_count": 3,
   "id": "134acf63",
   "metadata": {},
   "outputs": [],
   "source": [
    "products_data = [\n",
    "    (1, \"Phone\"),\n",
    "    (2, \"Laptop\"),\n",
    "    (3, \"Tablet\"),\n",
    "    (4, \"Monitor\"),\n",
    "    (5, \"Bread\")\n",
    "]"
   ]
  },
  {
   "cell_type": "code",
   "execution_count": 4,
   "id": "7d104531",
   "metadata": {},
   "outputs": [],
   "source": [
    "categories_data = [\n",
    "    (10, \"Electronics\"),\n",
    "    (20, \"Computers\"),\n",
    "    (30, \"Gadgets\"),\n",
    "    (40, \"Accessories\")\n",
    "    ]"
   ]
  },
  {
   "cell_type": "code",
   "execution_count": 5,
   "id": "ca06179e",
   "metadata": {},
   "outputs": [],
   "source": [
    "product_category_data = [\n",
    "    (1, 10),\n",
    "    (1, 30),\n",
    "    (2, 10),\n",
    "    (2, 20),\n",
    "    (3, 10)\n",
    "    ]"
   ]
  },
  {
   "cell_type": "code",
   "execution_count": 6,
   "id": "566ccd18",
   "metadata": {},
   "outputs": [],
   "source": [
    "products_df = spark.createDataFrame(products_data, [\"product_id\", \"product_name\"])\n",
    "categories_df = spark.createDataFrame(categories_data, [\"category_id\", \"category_name\"])\n",
    "product_category_df = spark.createDataFrame(product_category_data, [\"product_id\", \"category_id\"])"
   ]
  },
  {
   "cell_type": "code",
   "execution_count": 7,
   "id": "9d592a9c",
   "metadata": {},
   "outputs": [],
   "source": [
    "result_df = df_util.get_product_category_pairs(products_df, categories_df, product_category_df)"
   ]
  },
  {
   "cell_type": "code",
   "execution_count": 8,
   "id": "741adbad",
   "metadata": {},
   "outputs": [
    {
     "name": "stdout",
     "output_type": "stream",
     "text": [
      "+------------+-------------+\n",
      "|product_name|category_name|\n",
      "+------------+-------------+\n",
      "|     Monitor|         NULL|\n",
      "|       Bread|         NULL|\n",
      "|       Phone|  Electronics|\n",
      "|      Laptop|  Electronics|\n",
      "|      Tablet|  Electronics|\n",
      "|       Phone|      Gadgets|\n",
      "|      Laptop|    Computers|\n",
      "+------------+-------------+\n",
      "\n"
     ]
    }
   ],
   "source": [
    "result_df.show()"
   ]
  }
 ],
 "metadata": {
  "kernelspec": {
   "display_name": "3",
   "language": "python",
   "name": "python3"
  },
  "language_info": {
   "codemirror_mode": {
    "name": "ipython",
    "version": 3
   },
   "file_extension": ".py",
   "mimetype": "text/x-python",
   "name": "python",
   "nbconvert_exporter": "python",
   "pygments_lexer": "ipython3",
   "version": "3.11.8"
  }
 },
 "nbformat": 4,
 "nbformat_minor": 5
}
